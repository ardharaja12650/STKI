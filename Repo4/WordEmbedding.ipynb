{
 "cells": [
  {
   "cell_type": "code",
   "execution_count": 1,
   "id": "c86165eb-0828-4058-813b-44093895cf65",
   "metadata": {},
   "outputs": [
    {
     "data": {
      "text/html": [
       "<div>\n",
       "<style scoped>\n",
       "    .dataframe tbody tr th:only-of-type {\n",
       "        vertical-align: middle;\n",
       "    }\n",
       "\n",
       "    .dataframe tbody tr th {\n",
       "        vertical-align: top;\n",
       "    }\n",
       "\n",
       "    .dataframe thead th {\n",
       "        text-align: right;\n",
       "    }\n",
       "</style>\n",
       "<table border=\"1\" class=\"dataframe\">\n",
       "  <thead>\n",
       "    <tr style=\"text-align: right;\">\n",
       "      <th></th>\n",
       "      <th>also</th>\n",
       "      <th>boy</th>\n",
       "      <th>he</th>\n",
       "      <th>is</th>\n",
       "      <th>lazy</th>\n",
       "      <th>neeraj</th>\n",
       "      <th>person</th>\n",
       "      <th>she</th>\n",
       "    </tr>\n",
       "  </thead>\n",
       "  <tbody>\n",
       "    <tr>\n",
       "      <th>0</th>\n",
       "      <td>1</td>\n",
       "      <td>1</td>\n",
       "      <td>1</td>\n",
       "      <td>2</td>\n",
       "      <td>2</td>\n",
       "      <td>0</td>\n",
       "      <td>0</td>\n",
       "      <td>1</td>\n",
       "    </tr>\n",
       "    <tr>\n",
       "      <th>1</th>\n",
       "      <td>0</td>\n",
       "      <td>0</td>\n",
       "      <td>0</td>\n",
       "      <td>1</td>\n",
       "      <td>1</td>\n",
       "      <td>1</td>\n",
       "      <td>1</td>\n",
       "      <td>0</td>\n",
       "    </tr>\n",
       "  </tbody>\n",
       "</table>\n",
       "</div>"
      ],
      "text/plain": [
       "   also  boy  he  is  lazy  neeraj  person  she\n",
       "0     1    1   1   2     2       0       0    1\n",
       "1     0    0   0   1     1       1       1    0"
      ]
     },
     "execution_count": 1,
     "metadata": {},
     "output_type": "execute_result"
    }
   ],
   "source": [
    "from sklearn.feature_extraction.text import CountVectorizer\n",
    "import pandas as pd\n",
    "\n",
    "doc1 = \"He is a lazy boy. She is also lazy.\"\n",
    "doc2 = \"Neeraj is a lazy person.\"\n",
    "\n",
    "bow_vectorizer = CountVectorizer()\n",
    "\n",
    "X = bow_vectorizer.fit_transform([doc1,doc2])\n",
    "\n",
    "bow_df = pd.DataFrame(X.toarray(),columns=bow_vectorizer.get_feature_names_out())\n",
    "bow_df.head()"
   ]
  },
  {
   "cell_type": "code",
   "execution_count": null,
   "id": "1f8f1315-5d88-4e53-afbf-e8e4641a64ae",
   "metadata": {},
   "outputs": [],
   "source": [
    "from __future__ import print_function\n",
    " \n",
    "# Ignore warnings dari gensim\n",
    "import warnings\n",
    "warnings.filterwarnings(action='ignore', category=UserWarning, module='gensim')\n",
    " \n",
    "import logging\n",
    "import os.path\n",
    "import sys\n",
    " \n",
    "from gensim.corpora import WikiCorpus\n",
    " \n",
    "program = os.path.basename(sys.argv[0])\n",
    "logger = logging.getLogger(program)\n",
    " \n",
    "logging.basicConfig(format='%(asctime)s: %(levelname)s: %(message)s')\n",
    "logging.root.setLevel(level=logging.INFO)\n",
    "logger.info(\"running %s\" % ' '.join(sys.argv))\n",
    " \n",
    "namaFileInput = \"idwiki-latest-pages-articles.xml.bz2\"\n",
    "namaFileOutput = \"wiki.id.text\"\n",
    " \n",
    "space = \" \"\n",
    "i = 0\n",
    " \n",
    "# Write file ke variabel namaFileOutput encoder utf-8\n",
    "output = open(namaFileOutput, 'w', encoding='utf-8')\n",
    " \n",
    "# lower=False: huruf kecil dan besar dibedakan\n",
    "wiki = WikiCorpus(namaFileInput, lemmatize=None, dictionary={}, lower=False)\n",
    "for text in wiki.get_texts():\n",
    "    output.write(' '.join(text) + '\\n')\n",
    "    i = i + 1\n",
    "    if i % 10000 == 0:\n",
    "        logger.info(\"Saved \" + str(i) + \" articles\")\n",
    " \n",
    "output.close()\n",
    "logger.info(\"Finished Saved \" + str(i) + \" articles\")"
   ]
  },
  {
   "cell_type": "code",
   "execution_count": null,
   "id": "2a34dad6-efd9-4cef-bfb2-5e82e3be3f1e",
   "metadata": {},
   "outputs": [],
   "source": [
    "import multiprocessing\n",
    "import logging\n",
    "import os.path\n",
    "import sys\n",
    "import multiprocessing\n",
    "from gensim.models import Word2Vec\n",
    "from gensim.models.word2vec import LineSentence\n",
    " \n",
    "program = os.path.basename(sys.argv[0])\n",
    "logger = logging.getLogger(program)\n",
    " \n",
    "logging.basicConfig(format='%(asctime)s : %(levelname)s : %(message)s')\n",
    "logging.root.setLevel(level=logging.INFO)\n",
    "logger.info(\"running %s\" % ' '.join(sys.argv))\n",
    " \n",
    "namaFileInput = \"wiki.id.text\"\n",
    "namaFileOutput = \"w2vec_wiki_id300_0.txt\"\n",
    " \n",
    " \n",
    "# size 300 = 300 dimensi vektor, window 10 = 10 pengaruh kata disekitarnya, min_count 5 = kata-kata yang muncul < 5 kali akan dikeluarkan dari kosakata dan diabaikan selama pelatihan, sg 0 = cbow / sg 1 = skip gram \n",
    "model = Word2Vec(LineSentence(namaFileInput), vector_size=300, window=10, min_count=5, sg=0, workers=multiprocessing.cpu_count())\n",
    " \n",
    "# trim unneeded model memory = use (much) less RAM\n",
    "model.init_sims(replace=True)\n",
    "model.wv.save_word2vec_format(namaFileOutput, binary=False)"
   ]
  },
  {
   "cell_type": "code",
   "execution_count": null,
   "id": "c5b2c6f2-9a21-40e5-a45f-7c11baf351b5",
   "metadata": {},
   "outputs": [],
   "source": [
    "import gensim\n",
    "# import gensim.models.keyedvectors as word2vec\n",
    "# model = gensim.models.Word2Vec.load(namaFileModel)\n",
    "# model = word2vec.KeyedVectors.load_word2vec_format(namaFileModel, binary=True)\n",
    "\n",
    "namaFileModel = \"w2vec_wiki_id300_0.txt\"\n",
    "\n",
    "sim = model.wv.most_similar(\"Jakarta\")\n",
    "print(\"10 kata terdekat dari Jakarta:{}\".format(sim))\n",
    "sim = model.wv.most_similar(\"Bandung\")\n",
    "print(\"10 kata terdekat dari Bandung:{}\".format(sim))\n",
    " \n",
    "sim = model.wv.similarity(\"Yogyakarta\", \"Surakarta\")\n",
    "print(\"Kedekatan Yogyakarta-Surakarta: {}\".format(sim))\n",
    "sim = model.wv.similarity(\"Yogyakarta\", \"Semarang\")\n",
    "print(\"Kedekatan Yogyakarta-Semarang: {}\".format(sim))\n",
    " \n",
    "sim = model.wv.most_similar_cosmul(positive=['minuman', 'rendang'], negative=['makanan'])\n",
    "print(\"makanan-rendang, minuman-?: {}\".format(sim))\n",
    "sim = model.wv.most_similar_cosmul(positive=['mobil', 'honda'], negative=['motor'])\n",
    "print(\"motor-honda, mobil-?: {}\".format(sim))"
   ]
  },
  {
   "cell_type": "code",
   "execution_count": 11,
   "id": "e4618efb-2270-430d-a568-70d75452355c",
   "metadata": {},
   "outputs": [
    {
     "name": "stdout",
     "output_type": "stream",
     "text": [
      "[0 0 1 0 0 0]\n",
      "[[0.03375471 0.48910751 0.8460851 ]\n",
      " [0.411402   0.63141537 0.29094324]\n",
      " [0.54280029 0.22818138 0.24027633]\n",
      " [0.95345753 0.64581043 0.01785715]\n",
      " [0.99612582 0.73519453 0.72194246]\n",
      " [0.41049651 0.20378019 0.96210253]]\n",
      "[0.54280029 0.22818138 0.24027633]\n",
      "[[0.22447103 0.04778277 0.88384717 0.88913206 0.9627819  0.61117464]\n",
      " [0.98581388 0.4030899  0.15691591 0.58744913 0.38452312 0.29390423]\n",
      " [0.01757671 0.46686011 0.91006643 0.10251991 0.42861358 0.13086643]]\n",
      "[0.35101058 0.23008954 0.73422521 0.6412992  0.71332501 0.43025335]\n"
     ]
    }
   ],
   "source": [
    "import numpy as np\n",
    "np.random.seed(62)\n",
    "v_revenge = np.array([0,0,1,0,0,0]) #\"revenge\"\n",
    "print(v_revenge)\n",
    "\n",
    "weight = np.random.random_sample((6,3))\n",
    "print(weight)\n",
    "\n",
    "\n",
    "hidden_layer_sg = np.dot(v_revenge,weight)\n",
    "print(hidden_layer_sg)\n",
    "\n",
    "weight_prime = np.random.random_sample((3,6))\n",
    "print(weight_prime)\n",
    "\n",
    "o_the = np.dot(hidden_layer_sg, weight_prime)\n",
    "print(o_the)\n"
   ]
  },
  {
   "cell_type": "code",
   "execution_count": 12,
   "id": "012481ab-dcc8-4d14-8bc7-62ec3ff11d5f",
   "metadata": {},
   "outputs": [
    {
     "name": "stdout",
     "output_type": "stream",
     "text": [
      "[0 0 1 0 0 0]\n",
      "[0.54280029 0.22818138 0.24027633]\n",
      "[0.35101058 0.23008954 0.73422521 0.6412992  0.71332501 0.43025335]\n"
     ]
    }
   ],
   "source": [
    "v_the = np.array([0,0,1,0,0,0]) #\"the\"\n",
    "print(v_the)\n",
    "#array([1, 0, 0, 0, 0, 0])\n",
    "#weight = menggunakan weight yang sama dengan ilustrasi pada Skip-Gram\n",
    "hidden_layer_cbow = np.dot(v_the,weight)\n",
    "print(hidden_layer_cbow)\n",
    "#array([0.43194502, 0.29122914, 0.61185289])\n",
    "#weight_prime = menggunakan weight_prime yang sama dengan ilustrasi pada Skip-Gram\n",
    "o_revenge = np.dot(hidden_layer_cbow, weight_prime)\n",
    "print(o_revenge)\n",
    "#array([0.47609761, 0.42011332, 0.96415848, 0.85733473, 0.7183283, 0.91285087])"
   ]
  },
  {
   "cell_type": "code",
   "execution_count": null,
   "id": "36f6afc0-aec9-4a6a-9138-cd321c08f12f",
   "metadata": {},
   "outputs": [],
   "source": []
  }
 ],
 "metadata": {
  "kernelspec": {
   "display_name": "Python 3 (ipykernel)",
   "language": "python",
   "name": "python3"
  },
  "language_info": {
   "codemirror_mode": {
    "name": "ipython",
    "version": 3
   },
   "file_extension": ".py",
   "mimetype": "text/x-python",
   "name": "python",
   "nbconvert_exporter": "python",
   "pygments_lexer": "ipython3",
   "version": "3.12.0"
  }
 },
 "nbformat": 4,
 "nbformat_minor": 5
}
